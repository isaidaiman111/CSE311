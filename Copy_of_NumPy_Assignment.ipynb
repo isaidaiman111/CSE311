{
  "cells": [
    {
      "cell_type": "markdown",
      "metadata": {
        "id": "view-in-github",
        "colab_type": "text"
      },
      "source": [
        "<a href=\"https://colab.research.google.com/github/isaidaiman111/CSE311/blob/main/Copy_of_NumPy_Assignment.ipynb\" target=\"_parent\"><img src=\"https://colab.research.google.com/assets/colab-badge.svg\" alt=\"Open In Colab\"/></a>"
      ]
    },
    {
      "cell_type": "markdown",
      "id": "4f1a4682",
      "metadata": {
        "id": "4f1a4682"
      },
      "source": [
        "## NumPy Assignment\n",
        "These assignments involve common tasks encountered in data analysis, finance, and image processing, where NumPy can be applied to efficiently manipulate and analyze data. They require intermediate knowledge of NumPy functions such as sum, mean, nanmean, std, reshape, and dot product, among others.\n",
        "\n",
        "Remember to consult the NumPy documentation and other resources for detailed explanations of the functions and concepts involved in these assignments."
      ]
    },
    {
      "cell_type": "markdown",
      "id": "27f8c731",
      "metadata": {
        "id": "27f8c731"
      },
      "source": [
        "### Assignment 1: Sales Analysis\n",
        "You are given an array representing the daily sales of a product for a week. Your task is to find the total sales for the week and calculate the average daily sales.\n",
        "\n",
        "**Data:** An array representing the daily sales of a product for a week.\n",
        "\n",
        "```python\n",
        "sales = np.array([50, 45, 55, 60, 48, 52, 58])\n",
        "```"
      ]
    },
    {
      "cell_type": "code",
      "source": [
        "import numpy as np\n",
        "\n",
        "sales = np.array([50, 45, 55, 60, 48, 52, 58])\n",
        "\n",
        "total_sales = np.sum(sales)\n",
        "average_sales = np.mean(sales)\n",
        "\n",
        "print(\"Total Sales for the Week:\", total_sales)\n",
        "print(\"Average Daily Sales:\", average_sales)\n"
      ],
      "metadata": {
        "id": "9rfJ2ZAnUS7W"
      },
      "id": "9rfJ2ZAnUS7W",
      "execution_count": null,
      "outputs": []
    },
    {
      "cell_type": "markdown",
      "id": "4f39a0ab",
      "metadata": {
        "id": "4f39a0ab"
      },
      "source": [
        "### Assignment 2: Data Cleaning\n",
        "You have a dataset containing customer ratings for various products. However, some ratings are missing **`(NaN values)`**. Your task is to replace all the missing ratings with the mean rating for each product.\n",
        "\n",
        "**Data:** A dataset containing customer ratings for various products with missing values (NaN).\n",
        "\n",
        "```python\n",
        "ratings = np.array([3.5, 4.2, 2.8, np.nan, 3.9, np.nan, 4.5, 3.2, 3.7])\n",
        "```"
      ]
    },
    {
      "cell_type": "code",
      "source": [
        "import numpy as np\n",
        "\n",
        "ratings = np.array([3.5, 4.2, 2.8, np.nan, 3.9, np.nan, 4.5, 3.2, 3.7])\n",
        "\n",
        "\n",
        "mean_rating = np.nanmean(ratings)\n",
        "ratings[np.isnan(ratings)] = mean_rating\n",
        "\n",
        "print(\"Cleaned Ratings:\", ratings)\n"
      ],
      "metadata": {
        "id": "XJEUP4CGUUWf"
      },
      "id": "XJEUP4CGUUWf",
      "execution_count": null,
      "outputs": []
    },
    {
      "cell_type": "markdown",
      "id": "acfff7eb",
      "metadata": {
        "id": "acfff7eb"
      },
      "source": [
        "### Assignment 3: Image Processing\n",
        "You are working on an image processing project and need to apply a grayscale filter to an RGB image. Convert the RGB image into a grayscale image using numpy arrays and the appropriate color channel weights **`(e.g., 0.2989 * Red + 0.5870 * Green + 0.1140 * Blue)`**.\n",
        "\n",
        "**Data:** An RGB image represented as a 3D numpy array with shape **`(height, width, 3)`**, where the third dimension represents the Red, Green, and Blue color channels.\n",
        "\n",
        "```python\n",
        "image = np.array([[[255, 0, 0], [0, 255, 0], [0, 0, 255]],\n",
        "                  [[127, 127, 127], [255, 255, 255], [0, 0, 0]],\n",
        "                  [[100, 200, 50], [150, 75, 200], [25, 125, 75]]], dtype=np.uint8)\n",
        "```\n",
        "\n",
        "**`Output will be:`**\n",
        "```lua\n",
        "[[  76.197  76.197  76.197]\n",
        " [ 166.595 166.595 166.595]\n",
        " [ 148.293 148.293 148.293]]\n",
        " ```"
      ]
    },
    {
      "cell_type": "code",
      "source": [
        "import numpy as np\n",
        "\n",
        "image = np.array([[[255, 0, 0], [0, 255, 0], [0, 0, 255]],\n",
        "                  [[127, 127, 127], [255, 255, 255], [0, 0, 0]],\n",
        "                  [[100, 200, 50], [150, 75, 200], [25, 125, 75]]], dtype=np.uint8)\n",
        "\n",
        "weights = [0.2989, 0.5870, 0.1140]\n",
        "grayscale_image = np.dot(image, weights)\n",
        "\n",
        "print(grayscale_image)\n"
      ],
      "metadata": {
        "id": "ML5-z3wpUdLn"
      },
      "id": "ML5-z3wpUdLn",
      "execution_count": null,
      "outputs": []
    },
    {
      "cell_type": "markdown",
      "id": "5c12e866",
      "metadata": {
        "id": "5c12e866"
      },
      "source": [
        "### Assignment 4: Images Data Manupulation\n",
        "You are given an image of shape **`(1000,667,3)`**. Perform the following task:\n",
        "   - convert the images to a numpy array\n",
        "   - Expand the dimension of image array to **`(1,1000,67,3,1)`**\n",
        "   - Remove all single dimensions from the numpy array     \n",
        "##### Load Image\n",
        "```python\n",
        "from PIL import Image\n",
        "image1 = Image.open(\"images/cat.jpg\")\n",
        "```"
      ]
    },
    {
      "cell_type": "code",
      "source": [
        "from PIL import Image\n",
        "import numpy as np\n",
        "\n",
        "image1 = Image.open(\"images/cat.jpg\")\n",
        "image_array = np.array(image1)\n",
        "\n",
        "expanded_image = np.expand_dims(image_array, axis=(0, 4))\n",
        "\n",
        "final_image = np.squeeze(expanded_image)\n",
        "\n",
        "print(\"Image Shape:\", final_image.shape)\n"
      ],
      "metadata": {
        "id": "RRlWlZifUlKk"
      },
      "id": "RRlWlZifUlKk",
      "execution_count": null,
      "outputs": []
    }
  ],
  "metadata": {
    "kernelspec": {
      "display_name": "Python 3 (ipykernel)",
      "language": "python",
      "name": "python3"
    },
    "language_info": {
      "codemirror_mode": {
        "name": "ipython",
        "version": 3
      },
      "file_extension": ".py",
      "mimetype": "text/x-python",
      "name": "python",
      "nbconvert_exporter": "python",
      "pygments_lexer": "ipython3",
      "version": "3.8.16"
    },
    "colab": {
      "provenance": [],
      "include_colab_link": true
    }
  },
  "nbformat": 4,
  "nbformat_minor": 5
}